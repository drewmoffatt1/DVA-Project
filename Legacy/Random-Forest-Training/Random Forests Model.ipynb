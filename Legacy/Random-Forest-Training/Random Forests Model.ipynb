{
 "cells": [
  {
   "cell_type": "markdown",
   "id": "moral-bolivia",
   "metadata": {},
   "source": [
    "Random Forests Model"
   ]
  },
  {
   "cell_type": "code",
   "execution_count": null,
   "id": "still-spirit",
   "metadata": {},
   "outputs": [],
   "source": [
    "import numpy as np\n",
    "import pandas as pd\n",
    "import matplotlib.pyplot as plt\n"
   ]
  },
  {
   "cell_type": "code",
   "execution_count": null,
   "id": "major-brake",
   "metadata": {},
   "outputs": [],
   "source": [
    "# Load the data\n",
    "data = pd.read_csv('03_full_dataset_clean.csv')\n",
    "#data.head(3)\n",
    "#data.describe()\n",
    "#data.info()\n",
    "data = data.dropna()"
   ]
  },
  {
   "cell_type": "code",
   "execution_count": null,
   "id": "copyrighted-month",
   "metadata": {},
   "outputs": [],
   "source": [
    "data = data[data[\"zone\"] == \"RECO\"]\n",
    "data.head(3)\n"
   ]
  },
  {
   "cell_type": "code",
   "execution_count": null,
   "id": "resistant-machinery",
   "metadata": {},
   "outputs": [],
   "source": [
    "x = data[['temp','precip','rh','pressure','windspeed','rain','snow','month']]\n",
    "y = data[['mw']]"
   ]
  },
  {
   "cell_type": "code",
   "execution_count": null,
   "id": "boolean-ordering",
   "metadata": {},
   "outputs": [],
   "source": [
    "# Divide the data into training and test sets - don't need\n",
    "from sklearn.model_selection import train_test_split\n",
    "\n",
    "x_train, x_test, y_train, y_test = train_test_split(x, y, test_size=0.2, random_state=42)"
   ]
  },
  {
   "cell_type": "code",
   "execution_count": null,
   "id": "printable-federal",
   "metadata": {},
   "outputs": [],
   "source": [
    "# Feature Scaling\n",
    "from sklearn.preprocessing import StandardScaler\n",
    "\n",
    "sc = StandardScaler()\n",
    "x_train = sc.fit_transform(x_train)\n",
    "x_test = sc.transform(x_test)"
   ]
  },
  {
   "cell_type": "code",
   "execution_count": null,
   "id": "republican-census",
   "metadata": {},
   "outputs": [],
   "source": [
    "# Import the model we are using\n",
    "from sklearn.ensemble import RandomForestRegressor\n",
    "# Instantiate model with 1000 decision trees\n",
    "rf = RandomForestRegressor(n_estimators = 100, random_state = 42)\n",
    "# Train the model on training data\n",
    "rf.fit(x_train, y_train.values.ravel());"
   ]
  },
  {
   "cell_type": "code",
   "execution_count": null,
   "id": "objective-fitness",
   "metadata": {},
   "outputs": [],
   "source": [
    "# Use the forest's predict method on the test data\n",
    "predictions = rf.predict(x_test)\n",
    "predictions=predictions.reshape(6950,1)\n",
    "# Calculate the absolute errors\n",
    "errors = abs(predictions - y_test)\n",
    "# Print out the mean absolute error (mae)\n",
    "print('Mean Absolute Error:', round(np.mean(errors), 2))"
   ]
  },
  {
   "cell_type": "code",
   "execution_count": null,
   "id": "brief-antique",
   "metadata": {},
   "outputs": [],
   "source": [
    "predictions = rf.predict(x_test)\n",
    "predictions=predictions.reshape(6950,1)\n",
    "manualCalc = np.mean(np.abs((y_test - predictions)/y_test))*100\n",
    "print(manualCalc)"
   ]
  }
 ],
 "metadata": {
  "kernelspec": {
   "display_name": "Python 3",
   "language": "python",
   "name": "python3"
  },
  "language_info": {
   "codemirror_mode": {
    "name": "ipython",
    "version": 3
   },
   "file_extension": ".py",
   "mimetype": "text/x-python",
   "name": "python",
   "nbconvert_exporter": "python",
   "pygments_lexer": "ipython3",
   "version": "3.9.2"
  }
 },
 "nbformat": 4,
 "nbformat_minor": 5
}
